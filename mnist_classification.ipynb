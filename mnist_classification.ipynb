{
 "cells": [
  {
   "cell_type": "code",
   "execution_count": 9,
   "metadata": {},
   "outputs": [],
   "source": [
    "import torch\n",
    "import torchvision\n",
    "import torchvision.transforms as transforms\n",
    "from torch import nn\n",
    "import torch.nn.functional as f\n",
    "from torch.optim.lr_scheduler import ExponentialLR"
   ]
  },
  {
   "cell_type": "code",
   "execution_count": 2,
   "metadata": {},
   "outputs": [
    {
     "name": "stderr",
     "output_type": "stream",
     "text": [
      "/opt/anaconda3/lib/python3.7/site-packages/torchvision/datasets/mnist.py:498: UserWarning: The given NumPy array is not writeable, and PyTorch does not support non-writeable tensors. This means you can write to the underlying (supposedly non-writeable) NumPy array using the tensor. You may want to copy the array to protect its data or make it writeable before converting it to a tensor. This type of warning will be suppressed for the rest of this program. (Triggered internally at  ../torch/csrc/utils/tensor_numpy.cpp:180.)\n",
      "  return torch.from_numpy(parsed.astype(m[2], copy=False)).view(*s)\n"
     ]
    }
   ],
   "source": [
    "transform = transforms.Compose(\n",
    "    [transforms.ToTensor(),\n",
    "     transforms.Normalize((0.5), (0.5))])\n",
    "\n",
    "batch_size = 4\n",
    "\n",
    "trainset = torchvision.datasets.MNIST(root='./data', train=True,\n",
    "                                        download=True, transform=transform)\n",
    "trainloader = torch.utils.data.DataLoader(trainset, batch_size=batch_size,\n",
    "                                          shuffle=True, num_workers=2)\n",
    "\n",
    "testset = torchvision.datasets.MNIST(root='./data', train=False,\n",
    "                                       download=True, transform=transform)\n",
    "testloader = torch.utils.data.DataLoader(testset, batch_size=batch_size,\n",
    "                                         shuffle=False, num_workers=2)\n",
    "\n",
    "classes = ('0', '1', '2', '3',\n",
    "           '4', '5', '6', '7', '8', '9')"
   ]
  },
  {
   "cell_type": "code",
   "execution_count": 3,
   "metadata": {},
   "outputs": [
    {
     "data": {
      "text/plain": [
       "torch.Size([4, 1, 28, 28])"
      ]
     },
     "execution_count": 3,
     "metadata": {},
     "output_type": "execute_result"
    }
   ],
   "source": [
    "for i, data in enumerate(trainloader, 0):\n",
    "        inputs, labels = data\n",
    "        break\n",
    "inputs.shape"
   ]
  },
  {
   "cell_type": "code",
   "execution_count": 4,
   "metadata": {},
   "outputs": [],
   "source": [
    "class ConvNet(nn.Module):\n",
    "    def __init__(self):\n",
    "        super().__init__()\n",
    "        self.conv1 = nn.Conv2d(1, 20, (3,3))\n",
    "        self.pool = nn.MaxPool2d(2, 2)\n",
    "        self.conv2 = nn.Conv2d(20, 25, (3, 3))\n",
    "        self.conv3 = nn.Conv2d(25, 30, (3, 3))\n",
    "        self.fc1 = nn.Linear(270, 10)\n",
    "\n",
    "    def forward(self, x):\n",
    "        x = self.pool(f.relu(self.conv1(x)))\n",
    "        x = self.pool(f.relu(self.conv2(x)))\n",
    "        x = f.relu(self.conv3(x))\n",
    "        x = torch.flatten(x, 1)\n",
    "        x = self.fc1(x)\n",
    "        return x\n",
    "\n",
    "net = ConvNet()"
   ]
  },
  {
   "cell_type": "code",
   "execution_count": 5,
   "metadata": {},
   "outputs": [],
   "source": [
    "import torch.optim as optim\n",
    "\n",
    "criterion = nn.CrossEntropyLoss()\n",
    "optimizer = optim.Adam(net.parameters(), lr=0.001)\n",
    "scheduler = ExponentialLR(optimizer, gamma=0.9)"
   ]
  },
  {
   "cell_type": "code",
   "execution_count": 6,
   "metadata": {},
   "outputs": [
    {
     "name": "stdout",
     "output_type": "stream",
     "text": [
      "[1,  2000] loss: 0.360\n",
      "[1,  4000] loss: 0.129\n",
      "[1,  6000] loss: 0.102\n",
      "[1,  8000] loss: 0.083\n",
      "[1, 10000] loss: 0.077\n",
      "[1, 12000] loss: 0.074\n",
      "[1, 14000] loss: 0.067\n",
      "[2,  2000] loss: 0.054\n",
      "[2,  4000] loss: 0.052\n",
      "[2,  6000] loss: 0.049\n",
      "[2,  8000] loss: 0.056\n",
      "[2, 10000] loss: 0.042\n",
      "[2, 12000] loss: 0.044\n",
      "[2, 14000] loss: 0.051\n",
      "[3,  2000] loss: 0.029\n",
      "[3,  4000] loss: 0.046\n",
      "[3,  6000] loss: 0.036\n",
      "[3,  8000] loss: 0.035\n",
      "[3, 10000] loss: 0.031\n",
      "[3, 12000] loss: 0.043\n",
      "[3, 14000] loss: 0.034\n",
      "[4,  2000] loss: 0.024\n",
      "[4,  4000] loss: 0.023\n",
      "[4,  6000] loss: 0.028\n",
      "[4,  8000] loss: 0.035\n",
      "[4, 10000] loss: 0.030\n",
      "[4, 12000] loss: 0.028\n",
      "[4, 14000] loss: 0.033\n",
      "[5,  2000] loss: 0.015\n",
      "[5,  4000] loss: 0.022\n",
      "[5,  6000] loss: 0.020\n",
      "[5,  8000] loss: 0.023\n",
      "[5, 10000] loss: 0.021\n",
      "[5, 12000] loss: 0.024\n",
      "[5, 14000] loss: 0.023\n",
      "[6,  2000] loss: 0.015\n",
      "[6,  4000] loss: 0.015\n",
      "[6,  6000] loss: 0.016\n",
      "[6,  8000] loss: 0.018\n",
      "[6, 10000] loss: 0.017\n",
      "[6, 12000] loss: 0.016\n",
      "[6, 14000] loss: 0.021\n",
      "[7,  2000] loss: 0.013\n",
      "[7,  4000] loss: 0.011\n",
      "[7,  6000] loss: 0.015\n",
      "[7,  8000] loss: 0.013\n",
      "[7, 10000] loss: 0.017\n",
      "[7, 12000] loss: 0.012\n",
      "[7, 14000] loss: 0.012\n",
      "Finished Training\n"
     ]
    }
   ],
   "source": [
    "for epoch in range(7):  \n",
    "\n",
    "    running_loss = 0.0\n",
    "    for i, data in enumerate(trainloader, 0):\n",
    "        inputs, labels = data\n",
    "        optimizer.zero_grad()\n",
    "\n",
    "        outputs = net(inputs)\n",
    "        loss = criterion(outputs, labels)\n",
    "        loss.backward()\n",
    "        optimizer.step()\n",
    "        running_loss += loss.item()\n",
    "        if i % 2000 == 1999:    # print every 2000 mini-batches\n",
    "            print('[%d, %5d] loss: %.3f' %\n",
    "                  (epoch + 1, i + 1, running_loss / 2000))\n",
    "            running_loss = 0.0\n",
    "    scheduler.step()\n",
    "    \n",
    "print('Finished Training')"
   ]
  },
  {
   "cell_type": "code",
   "execution_count": 7,
   "metadata": {},
   "outputs": [
    {
     "name": "stdout",
     "output_type": "stream",
     "text": [
      "Accuracy of the network on the test images: 0.991\n"
     ]
    }
   ],
   "source": [
    "correct = 0\n",
    "total = 0\n",
    "with torch.no_grad():\n",
    "    for data in testloader:\n",
    "        images, labels = data\n",
    "        outputs = net(images)\n",
    "        _, predicted = torch.max(outputs.data, 1)\n",
    "        total += labels.size(0)\n",
    "        correct += (predicted == labels).sum().item()\n",
    "\n",
    "print('Accuracy of the network on the test images:', correct / total)"
   ]
  },
  {
   "cell_type": "code",
   "execution_count": 8,
   "metadata": {},
   "outputs": [
    {
     "data": {
      "text/plain": [
       "14215"
      ]
     },
     "execution_count": 8,
     "metadata": {},
     "output_type": "execute_result"
    }
   ],
   "source": [
    "pytorch_total_params = sum(p.numel() for p in net.parameters() if p.requires_grad)\n",
    "pytorch_total_params"
   ]
  }
 ],
 "metadata": {
  "kernelspec": {
   "display_name": "Python 3",
   "language": "python",
   "name": "python3"
  },
  "language_info": {
   "codemirror_mode": {
    "name": "ipython",
    "version": 3
   },
   "file_extension": ".py",
   "mimetype": "text/x-python",
   "name": "python",
   "nbconvert_exporter": "python",
   "pygments_lexer": "ipython3",
   "version": "3.7.6"
  }
 },
 "nbformat": 4,
 "nbformat_minor": 4
}
